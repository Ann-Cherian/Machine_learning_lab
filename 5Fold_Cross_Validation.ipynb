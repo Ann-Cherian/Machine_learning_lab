{
  "nbformat": 4,
  "nbformat_minor": 0,
  "metadata": {
    "colab": {
      "provenance": []
    },
    "kernelspec": {
      "name": "python3",
      "display_name": "Python 3"
    },
    "language_info": {
      "name": "python"
    }
  },
  "cells": [
    {
      "cell_type": "code",
      "execution_count": null,
      "metadata": {
        "id": "6C9ndaxi9yAx"
      },
      "outputs": [],
      "source": [
        "from sklearn.datasets import load_breast_cancer\n",
        "import pandas as pd\n",
        "from sklearn.linear_model import LogisticRegression\n",
        "from sklearn.model_selection import KFold\n",
        "from sklearn.metrics import accuracy_score,precision_score,recall_score,f1_score"
      ]
    },
    {
      "cell_type": "code",
      "source": [
        "#Loading the dataset\n",
        "data = load_breast_cancer(as_frame = True)\n",
        "df = data.frame"
      ],
      "metadata": {
        "id": "wsPREZij-RqL"
      },
      "execution_count": null,
      "outputs": []
    },
    {
      "cell_type": "code",
      "source": [
        "# Segregating dependent and independent features\n",
        "X = df.iloc[:,:-1]\n",
        "Y = df.iloc[:,-1]"
      ],
      "metadata": {
        "id": "IFyv30Pn-V9C"
      },
      "execution_count": null,
      "outputs": []
    },
    {
      "cell_type": "code",
      "source": [
        "#Implementing k-fold cross-validation\n",
        "k = 5\n",
        "k_fold = KFold(n_splits = k, random_state = None)\n",
        "Lr = LogisticRegression(solver = 'liblinear')\n",
        "acc_scores = []\n",
        "pre_scores = []\n",
        "rec_scores = []\n",
        "f1_scores = []"
      ],
      "metadata": {
        "id": "bFH9upDJ-ayH"
      },
      "execution_count": null,
      "outputs": []
    },
    {
      "cell_type": "code",
      "source": [
        "# Looping over each split to get the accuracy score of each split\n",
        "for training_index, testing_index in k_fold.split(X):\n",
        "  X_train, X_test = X.iloc[training_index,:], X.iloc[testing_index,:]\n",
        "  Y_train, Y_test = Y.iloc[training_index] , Y.iloc[testing_index]\n",
        "# Fitting training data to the model\n",
        "  Lr.fit(X_train,Y_train)\n",
        "# Predicting values for the testing dataset\n",
        "  Y_pred = Lr.predict(X_test)\n",
        "# Calculatinf accuracy score using in-built sklearn accuracy_score method\n",
        "  acc = accuracy_score(Y_pred , Y_test)\n",
        "  pre = precision_score(Y_pred , Y_test)\n",
        "  rec = recall_score(Y_pred , Y_test)\n",
        "  f1 = f1_score(Y_pred , Y_test)\n",
        "  acc_scores.append(acc)\n",
        "  pre_scores.append(pre)\n",
        "  rec_scores.append(rec)\n",
        "  f1_scores.append(f1)"
      ],
      "metadata": {
        "id": "0Q-ooPJb-oXB"
      },
      "execution_count": null,
      "outputs": []
    },
    {
      "cell_type": "code",
      "source": [
        "# Calculating mean accuracy score\n",
        "mean_acc_score = sum(acc_scores) / k\n",
        "mean_pre_score = sum(pre_scores) / k\n",
        "mean_rec_score = sum(rec_scores) / k\n",
        "mean_f1_score = sum(f1_scores) / k\n",
        "print(\"Accuracy score of each fold: \", acc_scores)\n",
        "print(\"Mean accuracy score: \", mean_acc_score)\n",
        "print(\"\\nPrecision score of each fold: \", pre_scores)\n",
        "print(\"Mean precision score: \", mean_pre_score)\n",
        "print(\"\\nRecall score of each fold: \", rec_scores)\n",
        "print(\"Mean recall score: \", mean_rec_score)\n",
        "print(\"\\nF-Score of each fold: \", f1_scores)\n",
        "print(\"Mean F-Score: \", mean_f1_score)"
      ],
      "metadata": {
        "colab": {
          "base_uri": "https://localhost:8080/"
        },
        "id": "ghcBDRw6--s7",
        "outputId": "5b6229bb-f66e-4e1b-c138-49796962e685"
      },
      "execution_count": null,
      "outputs": [
        {
          "output_type": "stream",
          "name": "stdout",
          "text": [
            "Accuracy score of each fold:  [0.9122807017543859, 0.9473684210526315, 0.9736842105263158, 0.9736842105263158, 0.9557522123893806]\n",
            "Mean accuracy score:  0.952553951249806\n",
            "\n",
            "Precision score of each fold:  [1.0, 0.9692307692307692, 0.972972972972973, 0.9764705882352941, 0.9540229885057471]\n",
            "Mean precision score:  0.9745394637889566\n",
            "\n",
            "Recall score of each fold:  [0.8214285714285714, 0.9402985074626866, 0.9863013698630136, 0.9880952380952381, 0.9880952380952381]\n",
            "Mean recall score:  0.9448437849889496\n",
            "\n",
            "F-Score of each fold:  [0.9019607843137255, 0.9545454545454547, 0.979591836734694, 0.9822485207100591, 0.9707602339181286]\n",
            "Mean F-Score:  0.9578213660444124\n"
          ]
        }
      ]
    }
  ]
}