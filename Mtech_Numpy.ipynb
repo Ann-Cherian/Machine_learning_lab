{
 "cells": [
  {
   "cell_type": "markdown",
   "id": "0ceac178",
   "metadata": {},
   "source": [
    "# Array Creation"
   ]
  },
  {
   "cell_type": "code",
   "execution_count": 1,
   "id": "2a3cd9f2",
   "metadata": {},
   "outputs": [],
   "source": [
    "import numpy as np"
   ]
  },
  {
   "cell_type": "code",
   "execution_count": 2,
   "id": "4ea8618b",
   "metadata": {},
   "outputs": [
    {
     "name": "stdout",
     "output_type": "stream",
     "text": [
      "[1 2 3 4 5]\n"
     ]
    }
   ],
   "source": [
    "arr=np.array([1,2,3,4,5])\n",
    "print(arr) "
   ]
  },
  {
   "cell_type": "code",
   "execution_count": 3,
   "id": "b6695aeb",
   "metadata": {},
   "outputs": [
    {
     "name": "stdout",
     "output_type": "stream",
     "text": [
      "[[1 2 3]\n",
      " [4 5 6]\n",
      " [6 7 8]]\n"
     ]
    }
   ],
   "source": [
    "arr=np.array([[1,2,3],[4,5,6],[6,7,8]])\n",
    "print(arr)"
   ]
  },
  {
   "cell_type": "code",
   "execution_count": 4,
   "id": "acbdb864",
   "metadata": {},
   "outputs": [
    {
     "name": "stdout",
     "output_type": "stream",
     "text": [
      "[1. 1. 1. 1.]\n"
     ]
    }
   ],
   "source": [
    "arr1=np.ones(4)\n",
    "print(arr1)"
   ]
  },
  {
   "cell_type": "code",
   "execution_count": 5,
   "id": "1ce29a8f",
   "metadata": {},
   "outputs": [
    {
     "name": "stdout",
     "output_type": "stream",
     "text": [
      "[[1 1]\n",
      " [1 1]\n",
      " [1 1]\n",
      " [1 1]]\n"
     ]
    }
   ],
   "source": [
    "arr1=np.ones((4,2),int)\n",
    "print(arr1)"
   ]
  },
  {
   "cell_type": "code",
   "execution_count": 6,
   "id": "49727eb3",
   "metadata": {},
   "outputs": [
    {
     "name": "stdout",
     "output_type": "stream",
     "text": [
      "[[1. 1. 1.]\n",
      " [1. 1. 1.]\n",
      " [1. 1. 1.]]\n"
     ]
    }
   ],
   "source": [
    "arr1=np.ones((3,3))\n",
    "print(arr1)"
   ]
  },
  {
   "cell_type": "code",
   "execution_count": 7,
   "id": "c47c755a",
   "metadata": {},
   "outputs": [
    {
     "name": "stdout",
     "output_type": "stream",
     "text": [
      "[2.12199579e-314 2.12199579e-314 2.12199579e-314 2.12199579e-314]\n"
     ]
    }
   ],
   "source": [
    "arr2=np.empty(4)\n",
    "print(arr2)"
   ]
  },
  {
   "cell_type": "code",
   "execution_count": 8,
   "id": "19f38ca5",
   "metadata": {},
   "outputs": [
    {
     "name": "stdout",
     "output_type": "stream",
     "text": [
      "[1 2 3]\n"
     ]
    }
   ],
   "source": [
    "arr3=np.arange(1,4)\n",
    "print(arr3)"
   ]
  },
  {
   "cell_type": "code",
   "execution_count": 9,
   "id": "d9dcc4aa",
   "metadata": {
    "scrolled": true
   },
   "outputs": [
    {
     "name": "stdout",
     "output_type": "stream",
     "text": [
      "[2.12199579e-314 2.12199579e-314 2.12199579e-314 2.12199579e-314\n",
      " 1.00000000e+000 2.00000000e+000 3.00000000e+000]\n"
     ]
    }
   ],
   "source": [
    "arr4=np.concatenate([arr2,arr3])\n",
    "print(arr4)"
   ]
  },
  {
   "cell_type": "code",
   "execution_count": 10,
   "id": "88e9137b",
   "metadata": {},
   "outputs": [
    {
     "name": "stdout",
     "output_type": "stream",
     "text": [
      "[0 0 0 0]\n"
     ]
    }
   ],
   "source": [
    "arr7=arr2.astype(int)\n",
    "print(arr7)"
   ]
  },
  {
   "cell_type": "code",
   "execution_count": 11,
   "id": "2b914caa",
   "metadata": {},
   "outputs": [
    {
     "name": "stdout",
     "output_type": "stream",
     "text": [
      "[0. 0. 0. 0. 0. 0. 0.]\n"
     ]
    }
   ],
   "source": [
    "arr8=np.zeros_like(arr4)\n",
    "print(arr8)"
   ]
  },
  {
   "cell_type": "code",
   "execution_count": 12,
   "id": "3a38642a",
   "metadata": {},
   "outputs": [
    {
     "name": "stdout",
     "output_type": "stream",
     "text": [
      "[[0.55345914 0.95959844 0.63750948 0.10446238 0.31730914]\n",
      " [0.92377439 0.07827377 0.97362665 0.01534577 0.59108442]\n",
      " [0.81217351 0.13223033 0.09738537 0.43923419 0.60760653]\n",
      " [0.55892673 0.32677399 0.27739445 0.69576084 0.65779929]]\n"
     ]
    }
   ],
   "source": [
    "arr9=np.random.random((4,5))\n",
    "print(arr9)"
   ]
  },
  {
   "cell_type": "code",
   "execution_count": 13,
   "id": "ca6d4171",
   "metadata": {},
   "outputs": [
    {
     "name": "stdout",
     "output_type": "stream",
     "text": [
      "[1 2 3 4 5]\n"
     ]
    }
   ],
   "source": [
    "l=[1,2,3,4,5]\n",
    "arr10=np.array(l)\n",
    "print(arr10)"
   ]
  },
  {
   "cell_type": "code",
   "execution_count": 14,
   "id": "49496da9",
   "metadata": {},
   "outputs": [
    {
     "name": "stdout",
     "output_type": "stream",
     "text": [
      "[ 5.    8.75 12.5  16.25 20.  ]\n"
     ]
    }
   ],
   "source": [
    "arr11=np.linspace(5,20,5,dtype=float)\n",
    "print(arr11)"
   ]
  },
  {
   "cell_type": "code",
   "execution_count": 15,
   "id": "757ff64a",
   "metadata": {},
   "outputs": [
    {
     "name": "stdout",
     "output_type": "stream",
     "text": [
      "[1.e+01 1.e+02 1.e+03 1.e+04 1.e+05]\n"
     ]
    }
   ],
   "source": [
    "arr12=np.logspace(1,5,5)\n",
    "print(arr12)"
   ]
  },
  {
   "cell_type": "code",
   "execution_count": 16,
   "id": "c595dbfb",
   "metadata": {},
   "outputs": [
    {
     "name": "stdout",
     "output_type": "stream",
     "text": [
      "[[1 2 3]\n",
      " [4 5 6]\n",
      " [6 7 8]]\n"
     ]
    }
   ],
   "source": [
    "print(arr)"
   ]
  },
  {
   "cell_type": "code",
   "execution_count": 17,
   "id": "61914314",
   "metadata": {},
   "outputs": [
    {
     "name": "stdout",
     "output_type": "stream",
     "text": [
      "2\n"
     ]
    }
   ],
   "source": [
    "print(arr.ndim)"
   ]
  },
  {
   "cell_type": "code",
   "execution_count": 18,
   "id": "bc987d36",
   "metadata": {},
   "outputs": [
    {
     "name": "stdout",
     "output_type": "stream",
     "text": [
      "2\n"
     ]
    }
   ],
   "source": [
    "print(np.ndim(arr))"
   ]
  },
  {
   "cell_type": "code",
   "execution_count": 19,
   "id": "5a0bb504",
   "metadata": {},
   "outputs": [
    {
     "name": "stdout",
     "output_type": "stream",
     "text": [
      "(3, 3)\n"
     ]
    }
   ],
   "source": [
    "print(arr.shape)"
   ]
  },
  {
   "cell_type": "code",
   "execution_count": 20,
   "id": "ee41e971",
   "metadata": {},
   "outputs": [
    {
     "name": "stdout",
     "output_type": "stream",
     "text": [
      "9\n"
     ]
    }
   ],
   "source": [
    "print(arr.size)"
   ]
  },
  {
   "cell_type": "code",
   "execution_count": 21,
   "id": "87af8898",
   "metadata": {},
   "outputs": [
    {
     "name": "stdout",
     "output_type": "stream",
     "text": [
      "int32\n"
     ]
    }
   ],
   "source": [
    "print(arr.dtype)"
   ]
  },
  {
   "cell_type": "code",
   "execution_count": 22,
   "id": "2ca87453",
   "metadata": {},
   "outputs": [
    {
     "name": "stdout",
     "output_type": "stream",
     "text": [
      "4\n"
     ]
    }
   ],
   "source": [
    "print(arr.itemsize)"
   ]
  },
  {
   "cell_type": "code",
   "execution_count": 23,
   "id": "9d441894",
   "metadata": {},
   "outputs": [
    {
     "name": "stdout",
     "output_type": "stream",
     "text": [
      "<memory at 0x000002A2D94EE740>\n"
     ]
    }
   ],
   "source": [
    "print(arr.data)"
   ]
  },
  {
   "cell_type": "code",
   "execution_count": 24,
   "id": "95db1e49",
   "metadata": {},
   "outputs": [
    {
     "name": "stdout",
     "output_type": "stream",
     "text": [
      "36\n"
     ]
    }
   ],
   "source": [
    "print(arr.nbytes) "
   ]
  },
  {
   "cell_type": "code",
   "execution_count": 25,
   "id": "0015adbc",
   "metadata": {},
   "outputs": [
    {
     "name": "stdout",
     "output_type": "stream",
     "text": [
      "[6 7 8]\n"
     ]
    }
   ],
   "source": [
    "print(arr[2])"
   ]
  },
  {
   "cell_type": "code",
   "execution_count": 26,
   "id": "37d10455",
   "metadata": {},
   "outputs": [
    {
     "name": "stdout",
     "output_type": "stream",
     "text": [
      "7\n"
     ]
    }
   ],
   "source": [
    "print(arr[2,-2])"
   ]
  },
  {
   "cell_type": "code",
   "execution_count": 27,
   "id": "9d0e096a",
   "metadata": {},
   "outputs": [
    {
     "name": "stdout",
     "output_type": "stream",
     "text": [
      "[[ 1  2  3]\n",
      " [ 4  5  6]\n",
      " [10 10 10]]\n"
     ]
    }
   ],
   "source": [
    "arr[2]=10\n",
    "print(arr)"
   ]
  },
  {
   "cell_type": "code",
   "execution_count": 28,
   "id": "3ca7b964",
   "metadata": {},
   "outputs": [
    {
     "name": "stdout",
     "output_type": "stream",
     "text": [
      "(9,)\n",
      "[1 2 3 4 5 6 7 8 9]\n",
      "(3, 3)\n",
      "[[1 2 3]\n",
      " [4 5 6]\n",
      " [7 8 9]]\n",
      "[[1 2 3]\n",
      " [4 5 6]\n",
      " [7 8 9]]\n",
      "[[1 4 7]\n",
      " [2 5 8]\n",
      " [3 6 9]]\n",
      "[1 2 3 4 5 6 7 8 9]\n",
      "[1 2 3 4 5 6 7 8 9]\n"
     ]
    }
   ],
   "source": [
    "arr=np.array([1,2,3,4,5,6,7,8,9])\n",
    "\n",
    "print (arr.shape)\n",
    "print(arr)\n",
    "arr1=arr.reshape(3,3)\n",
    "print(arr1.shape)\n",
    "print(arr1)\n",
    "\n",
    "arr2=arr.reshape((3,3),order='c')\n",
    "print(arr2)\n",
    "arr2=arr.reshape((3,3),order='f')\n",
    "print(arr2)\n",
    "\n",
    "arr3=arr.flatten()\n",
    "arr4=arr.ravel()\n",
    "print(arr3);print(arr4)"
   ]
  },
  {
   "cell_type": "markdown",
   "id": "7f691fd9",
   "metadata": {},
   "source": [
    "# ndarray Slicing"
   ]
  },
  {
   "cell_type": "code",
   "execution_count": 29,
   "id": "1c2699e3",
   "metadata": {},
   "outputs": [
    {
     "name": "stdout",
     "output_type": "stream",
     "text": [
      "[2 3 4]\n",
      "[5]\n",
      "[1 2 3 4]\n",
      "[2 4]\n",
      "[3 4]\n",
      "[1 3 5]\n",
      "[7 8 9]\n",
      "[3 8]\n",
      "[[2 3 4]\n",
      " [7 8 9]]\n"
     ]
    }
   ],
   "source": [
    "arr=np.array([1,2,3,4,5])\n",
    "arr2=np.array([[1,2,3,4,5],[6,7,8,9,10]])\n",
    "\n",
    "print(arr[1:4])\n",
    "print(arr[4:])\n",
    "print(arr[:4])\n",
    "print(arr[1:5:2])\n",
    "print(arr[-3:-1])\n",
    "print(arr[::2])\n",
    "print(arr2[1,1:4])\n",
    "print(arr2[0:2,2])\n",
    "print(arr2[0:2,1:4])"
   ]
  },
  {
   "cell_type": "code",
   "execution_count": 30,
   "id": "099f5e57",
   "metadata": {},
   "outputs": [
    {
     "data": {
      "text/plain": [
       "array([4, 5])"
      ]
     },
     "execution_count": 30,
     "metadata": {},
     "output_type": "execute_result"
    }
   ],
   "source": [
    "arr2[0,3:5]\n"
   ]
  },
  {
   "cell_type": "markdown",
   "id": "5f727367",
   "metadata": {},
   "source": [
    "# Advanced Indexing"
   ]
  },
  {
   "cell_type": "code",
   "execution_count": 35,
   "id": "53e95080",
   "metadata": {},
   "outputs": [
    {
     "name": "stdout",
     "output_type": "stream",
     "text": [
      "[2 3 3]\n",
      "[4 5 2]\n",
      "[ 1  7 10]\n",
      "[[ 7  8]\n",
      " [12 13]]\n"
     ]
    }
   ],
   "source": [
    "arr=np.array([1,2,3,4,5])\n",
    "arr1=np.array([[1,2,3,4,5],[6,7,8,9,10],[11,12,13,14,15]])\n",
    "list1=[1,2,-3]\n",
    "print(arr[list1])\n",
    "print(arr[[3,4,-4]])\n",
    "y = arr1[[0,1,1], [0,1,4]] \n",
    "print(y)\n",
    "y = arr1[1:3,[1,2]]\n",
    "print(y)\n"
   ]
  },
  {
   "cell_type": "code",
   "execution_count": 49,
   "id": "21f8d0cc",
   "metadata": {},
   "outputs": [
    {
     "name": "stdout",
     "output_type": "stream",
     "text": [
      "[False False False  True  True]\n",
      "[4 5]\n",
      "[1 2 1 2 1]\n"
     ]
    }
   ],
   "source": [
    "check=arr>3\n",
    "print(check)\n",
    "print(arr[check])\n",
    "l=[0,1,0,1,0]\n",
    "print(arr[l])"
   ]
  },
  {
   "cell_type": "markdown",
   "id": "7146e59a",
   "metadata": {},
   "source": [
    "# Numpy methods"
   ]
  },
  {
   "cell_type": "code",
   "execution_count": 50,
   "id": "812f6077",
   "metadata": {},
   "outputs": [
    {
     "name": "stdout",
     "output_type": "stream",
     "text": [
      "[ 1  2  3  4  5  6  7  8  9 10 11 12 13 14 15]\n",
      "[[ 1  2  3 20  5]\n",
      " [ 6  7  8  9 10]\n",
      " [11 12 13 14 15]]\n",
      "[ 1  2  3  4 30  6  7  8  9 10 11 12 13 14 15]\n",
      "[ 1  2  3 20  5  6  7  8  9 10 11 12 13 14 15]\n",
      "[[ 1  2  3 20  5]\n",
      " [ 6  7  8  9 10]\n",
      " [11 12 13 14 15]]\n",
      "[[ 1  6 11]\n",
      " [ 2  7 12]\n",
      " [ 3  8 13]\n",
      " [20  9 14]\n",
      " [ 5 10 15]]\n",
      "[[ 1  6 11]\n",
      " [ 2  7 12]\n",
      " [ 3  8 13]\n",
      " [20  9 14]\n",
      " [ 5 10 15]]\n",
      "[[ 1  6 11]\n",
      " [ 2  7 12]\n",
      " [ 3  8 13]\n",
      " [20  9 14]\n",
      " [ 5 10 15]]\n"
     ]
    }
   ],
   "source": [
    "arr=np.array([1,2,3,4,5])\n",
    "arr1=np.array([[1,2,3,4,5],[6,7,8,9,10],[11,12,13,14,15]])\n",
    "x=arr1.flatten() \n",
    "print(x)\n",
    "x[4]=30\n",
    "y=np.ravel(arr1) \n",
    "y[3]=20\n",
    "print(arr1); print(x); print(y)\n",
    "x.resize((3,5)) \n",
    "print(arr1)\n",
    "print(arr1.swapaxes(1,0))\n",
    "print(arr1.transpose())\n",
    "print(arr1.T)"
   ]
  },
  {
   "cell_type": "code",
   "execution_count": 51,
   "id": "1cdde675",
   "metadata": {},
   "outputs": [
    {
     "name": "stdout",
     "output_type": "stream",
     "text": [
      "int32\n",
      "[[ 1.  2.  3.  4.  5.]\n",
      " [ 6.  7.  8.  9. 10.]\n",
      " [11. 12. 13. 14. 15.]]\n",
      "(array([0, 0, 0, 0, 1, 1, 1, 1, 2, 2, 2, 2, 2], dtype=int64), array([0, 1, 2, 4, 0, 1, 2, 4, 0, 1, 2, 3, 4], dtype=int64))\n",
      "[[ 1  2  3  0  5]\n",
      " [ 6  7  8  0 10]\n",
      " [11 12 13 14 15]]\n",
      "[[3 0 1 2 4]\n",
      " [3 0 1 2 4]\n",
      " [0 1 2 3 4]]\n",
      "[[ 0  1  2  3  5]\n",
      " [ 0  6  7  8 10]\n",
      " [11 12 13 14 15]]\n",
      "2\n"
     ]
    }
   ],
   "source": [
    "arr=np.array([1,2,3,4,5])\n",
    "arr1=np.array([[1,2,3,4,5],[6,7,8,9,10],[11,12,13,14,15]])\n",
    "print(arr1.dtype)\n",
    "print(arr1.astype(float))\n",
    "arr1[1,3]=0;arr1[0,3]=0\n",
    "print(arr1.nonzero())\n",
    "print(arr1)\n",
    "arr1.argsort(axis=0)\n",
    "print(arr1.argsort(axis=1))\n",
    "arr1.sort(axis=1)\n",
    "print(arr1)\n",
    "print(arr.searchsorted(3))\n"
   ]
  },
  {
   "cell_type": "markdown",
   "id": "85b77783",
   "metadata": {},
   "source": [
    "# Iterating Arrays"
   ]
  },
  {
   "cell_type": "code",
   "execution_count": 53,
   "id": "f175e7e8",
   "metadata": {},
   "outputs": [
    {
     "name": "stdout",
     "output_type": "stream",
     "text": [
      "1\n",
      "2\n",
      "3\n",
      "4\n",
      "5\n",
      "[1 2 3 4 5]\n",
      "[ 6  7  8  9 10]\n",
      "[11 12 13 14 15]\n",
      "1\n",
      "2\n",
      "3\n",
      "4\n",
      "5\n",
      "6\n",
      "7\n",
      "8\n",
      "9\n",
      "10\n",
      "11\n",
      "12\n",
      "13\n",
      "14\n",
      "15\n",
      "1\n",
      "2\n",
      "3\n",
      "4\n",
      "5\n",
      "6\n",
      "7\n",
      "8\n",
      "9\n",
      "10\n",
      "11\n",
      "12\n",
      "13\n",
      "14\n",
      "15\n"
     ]
    }
   ],
   "source": [
    "arr=np.array([1,2,3,4,5])\n",
    "arr1=np.array([[1,2,3,4,5],[6,7,8,9,10],[11,12,13,14,15]])\n",
    "for x in arr:\n",
    " print(x) \n",
    "for x in arr1:\n",
    " print(x) \n",
    "for x in arr1:\n",
    " for y in x:\n",
    "  print(y) \n",
    "for x in np.nditer(arr1):\n",
    " print(x)"
   ]
  },
  {
   "cell_type": "markdown",
   "id": "d7adea36",
   "metadata": {},
   "source": [
    "# String Functions"
   ]
  },
  {
   "cell_type": "code",
   "execution_count": 55,
   "id": "5c405767",
   "metadata": {},
   "outputs": [
    {
     "data": {
      "text/plain": [
       "array(['ac', 'bd'], dtype='<U2')"
      ]
     },
     "execution_count": 55,
     "metadata": {},
     "output_type": "execute_result"
    }
   ],
   "source": [
    "np.char.add(['a','b'],['c','d'])\n"
   ]
  },
  {
   "cell_type": "code",
   "execution_count": 56,
   "id": "a15c2502",
   "metadata": {},
   "outputs": [
    {
     "data": {
      "text/plain": [
       "array(['aaa', 'bbb'], dtype='<U3')"
      ]
     },
     "execution_count": 56,
     "metadata": {},
     "output_type": "execute_result"
    }
   ],
   "source": [
    "np.char.multiply(['a','b'],3)"
   ]
  },
  {
   "cell_type": "markdown",
   "id": "001204e2",
   "metadata": {},
   "source": [
    "# Array Operations"
   ]
  },
  {
   "cell_type": "code",
   "execution_count": 57,
   "id": "6dbdf9c2",
   "metadata": {},
   "outputs": [
    {
     "name": "stdout",
     "output_type": "stream",
     "text": [
      "[[1 2 3]\n",
      " [4 5 6]\n",
      " [7 8 9]]\n",
      "[[1 2 3]\n",
      " [4 5 6]\n",
      " [7 8 9]]\n",
      "[[ 2  4  6]\n",
      " [ 8 10 12]\n",
      " [14 16 18]]\n",
      "[[ 2  4  6]\n",
      " [ 8 10 12]\n",
      " [14 16 18]]\n"
     ]
    }
   ],
   "source": [
    "arr1=np.array([[1,2,3],[4,5,6],[7,8,9]])\n",
    "arr2=np.array([[1,2,3],[4,5,6],[7,8,9]])\n",
    "print(arr1)\n",
    "print(arr2)\n",
    "print(arr1+arr2)\n",
    "print(np.add(arr1,arr2))"
   ]
  },
  {
   "cell_type": "code",
   "execution_count": 58,
   "id": "ae467bbf",
   "metadata": {},
   "outputs": [
    {
     "name": "stdout",
     "output_type": "stream",
     "text": [
      "[[ True  True  True]\n",
      " [ True  True  True]\n",
      " [ True  True  True]]\n",
      "[[ True  True  True]\n",
      " [ True  True  True]\n",
      " [ True  True  True]]\n"
     ]
    }
   ],
   "source": [
    "arr1=np.array([[1,2,3],[4,5,6],[7,8,9]])\n",
    "arr2=np.array([[1,2,3],[4,5,6],[7,8,9]])\n",
    "print(arr1==arr2)\n",
    "print(np.equal(arr1,arr2))"
   ]
  },
  {
   "cell_type": "markdown",
   "id": "244c0354",
   "metadata": {},
   "source": [
    "# Array Calculation Methods"
   ]
  },
  {
   "cell_type": "code",
   "execution_count": 59,
   "id": "47bc494e",
   "metadata": {},
   "outputs": [
    {
     "name": "stdout",
     "output_type": "stream",
     "text": [
      "45\n",
      "[12 15 18]\n",
      "[ 6 15 24]\n",
      "362880\n",
      "[[-0.99166481  0.86320937 -0.35078323]\n",
      " [-0.7568025   0.95892427 -0.2794155 ]\n",
      " [ 0.6569866   0.98935825 -0.41211849]]\n",
      "[[ 1.7 -2.1 -3.5]\n",
      " [-4.   5.  -6. ]\n",
      " [-7.  -8.   9. ]]\n",
      "[[-1.  3.  4.]\n",
      " [ 4. -5.  6.]\n",
      " [ 7.  8. -9.]]\n",
      "[[-1.7  2.   3. ]\n",
      " [ 4.  -5.   6. ]\n",
      " [ 7.   8.  -9. ]]\n"
     ]
    }
   ],
   "source": [
    "arr1=np.array([[1,2,3],[4,5,6],[7,8,9]])\n",
    "arr2=np.array([[-1.7,2.1,3.5],[4,-5,6],[7,8,-9]])\n",
    "print(arr1.sum())\n",
    "print(arr1.sum(axis=0))\n",
    "print(arr1.sum(axis=1))\n",
    "print(arr1.prod())\n",
    "print(np.sin(arr2))\n",
    "print(np.negative(arr2))\n",
    "print(np.ceil(arr2))\n",
    "print(np.minimum(arr1,arr2))"
   ]
  },
  {
   "cell_type": "markdown",
   "id": "f3161c6f",
   "metadata": {},
   "source": [
    "# Broadcasting"
   ]
  },
  {
   "cell_type": "code",
   "execution_count": 60,
   "id": "280fbf4e",
   "metadata": {},
   "outputs": [
    {
     "name": "stdout",
     "output_type": "stream",
     "text": [
      "[[ 0  1  2]\n",
      " [10 11 12]\n",
      " [20 21 22]\n",
      " [30 31 32]]\n"
     ]
    }
   ],
   "source": [
    "arr1 = np.array([[0],[10],[20],[30]])\n",
    "arr2 = np.array([0,1,2])\n",
    "print(arr1+arr2)"
   ]
  },
  {
   "cell_type": "markdown",
   "id": "edb92576",
   "metadata": {},
   "source": [
    "# Conditional"
   ]
  },
  {
   "cell_type": "code",
   "execution_count": 61,
   "id": "d1a08946",
   "metadata": {},
   "outputs": [
    {
     "name": "stdout",
     "output_type": "stream",
     "text": [
      "[[False  True  True]\n",
      " [ True False  True]\n",
      " [ True  True False]]\n",
      "6\n",
      "[['No' 'No' 'Yes']\n",
      " ['Yes' 'No' 'Yes']\n",
      " ['Yes' 'Yes' 'No']]\n"
     ]
    }
   ],
   "source": [
    "arr1=np.array([[-1.7,2.1,3.5],[4,\n",
    "-5,6],[7,8,-9]])\n",
    "print(arr1>0)\n",
    "print((arr1>2).sum())\n",
    "print(np.where(arr1>3,'Yes','No'))\n"
   ]
  },
  {
   "cell_type": "markdown",
   "id": "8fcdc051",
   "metadata": {},
   "source": [
    "# Graphical"
   ]
  },
  {
   "cell_type": "code",
   "execution_count": 62,
   "id": "78813ff1",
   "metadata": {},
   "outputs": [
    {
     "data": {
      "text/plain": [
       "(array([4, 8, 3, 7, 7, 6, 3, 7, 2, 3], dtype=int64),\n",
       " array([  0,  10,  20,  30,  40,  50,  60,  70,  80,  90, 100]))"
      ]
     },
     "execution_count": 62,
     "metadata": {},
     "output_type": "execute_result"
    }
   ],
   "source": [
    "arr1 = np.random.randint(100, size =(50)) \n",
    "np.histogram(arr1, bins = [0, 10, 20, 30, 40,50, 60, 70, 80, 90, 100])"
   ]
  }
 ],
 "metadata": {
  "kernelspec": {
   "display_name": "Python 3 (ipykernel)",
   "language": "python",
   "name": "python3"
  },
  "language_info": {
   "codemirror_mode": {
    "name": "ipython",
    "version": 3
   },
   "file_extension": ".py",
   "mimetype": "text/x-python",
   "name": "python",
   "nbconvert_exporter": "python",
   "pygments_lexer": "ipython3",
   "version": "3.11.5"
  }
 },
 "nbformat": 4,
 "nbformat_minor": 5
}
