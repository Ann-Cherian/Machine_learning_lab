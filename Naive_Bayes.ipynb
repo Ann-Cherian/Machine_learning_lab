{
  "nbformat": 4,
  "nbformat_minor": 0,
  "metadata": {
    "colab": {
      "provenance": []
    },
    "kernelspec": {
      "name": "python3",
      "display_name": "Python 3"
    },
    "language_info": {
      "name": "python"
    }
  },
  "cells": [
    {
      "cell_type": "code",
      "source": [
        "import pandas as pd\n",
        "import numpy as np\n",
        "\n",
        "def load_data(file_name):\n",
        "    data = pd.read_csv(file_name)\n",
        "    X = data.iloc[:, :-1].values\n",
        "    y = data.iloc[:, -1].values\n",
        "    return X, y\n",
        "\n",
        "train_X, train_y = load_data('Naive_Bayes_TrainingSet.csv')\n",
        "test_X, test_y = load_data('test_data.csv')\n",
        "\n",
        "class CustomNaiveBayesClassifier:\n",
        "    def __init__(self):\n",
        "        self.classes = None\n",
        "        self.class_probs = {}\n",
        "        self.feature_probs = {}\n",
        "\n",
        "    def fit(self, X, y):\n",
        "        self.classes = np.unique(y)\n",
        "        for cls in self.classes:\n",
        "            self.class_probs[cls] = np.mean(y == cls)\n",
        "            self.feature_probs[cls] = {}\n",
        "            for feature in range(X.shape[1]):\n",
        "                self.feature_probs[cls][feature] = {}\n",
        "                for value in np.unique(X[:, feature]):\n",
        "                    count = np.sum((X[:, feature] == value) & (y == cls)) + 1  # Laplace smoothing\n",
        "                    total = np.sum(y == cls) + len(np.unique(X[:, feature]))  # Laplace smoothing\n",
        "                    self.feature_probs[cls][feature][value] = count / total\n",
        "\n",
        "    def predict(self, X):\n",
        "        predictions = []\n",
        "        for sample in X:\n",
        "            class_scores = {cls: np.log(self.class_probs[cls]) for cls in self.classes}\n",
        "            for cls in self.classes:\n",
        "                for feature, value in enumerate(sample):\n",
        "                    if value in self.feature_probs[cls][feature]:\n",
        "                        class_scores[cls] += np.log(self.feature_probs[cls][feature][value])\n",
        "            predicted_class = max(class_scores, key=class_scores.get)\n",
        "            predictions.append(predicted_class)\n",
        "        return predictions\n",
        "\n",
        "nb_classifier = CustomNaiveBayesClassifier()\n",
        "nb_classifier.fit(train_X, train_y)\n",
        "\n",
        "predictions = nb_classifier.predict(test_X)\n",
        "accuracy = np.mean(predictions == test_y)\n",
        "print(f'Accuracy: {accuracy * 100:.2f}%')\n"
      ],
      "metadata": {
        "colab": {
          "base_uri": "https://localhost:8080/"
        },
        "id": "XO0Fs7IKKY-c",
        "outputId": "742a55d7-3cf9-48c8-e14d-a083a24fddb7"
      },
      "execution_count": null,
      "outputs": [
        {
          "output_type": "stream",
          "name": "stdout",
          "text": [
            "Accuracy: 80.00%\n"
          ]
        }
      ]
    }
  ]
}