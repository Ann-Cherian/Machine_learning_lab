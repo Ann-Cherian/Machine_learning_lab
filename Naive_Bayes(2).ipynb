{
  "nbformat": 4,
  "nbformat_minor": 0,
  "metadata": {
    "colab": {
      "provenance": []
    },
    "kernelspec": {
      "name": "python3",
      "display_name": "Python 3"
    },
    "language_info": {
      "name": "python"
    }
  },
  "cells": [
    {
      "cell_type": "code",
      "execution_count": null,
      "metadata": {
        "id": "EpoIL7gVDf4-"
      },
      "outputs": [],
      "source": [
        "import pandas as pd\n",
        "from sklearn.model_selection import train_test_split\n",
        "from sklearn.feature_extraction.text import CountVectorizer\n",
        "from sklearn.naive_bayes import MultinomialNB\n",
        "from sklearn import metrics\n"
      ]
    },
    {
      "cell_type": "code",
      "source": [
        "msg = pd.read_csv('dataset.csv', names=['message','label'])\n",
        "print('The dimension of the dataset',msg.shape)"
      ],
      "metadata": {
        "colab": {
          "base_uri": "https://localhost:8080/"
        },
        "id": "bI2EsHGiEJJw",
        "outputId": "65c01e68-80a3-4c7b-86d3-0416d21bd0d0"
      },
      "execution_count": null,
      "outputs": [
        {
          "output_type": "stream",
          "name": "stdout",
          "text": [
            "The dimension of the dataset (18, 2)\n"
          ]
        }
      ]
    },
    {
      "cell_type": "code",
      "source": [
        "msg['labelnum'] = msg.label.map({'pos': 1, 'neg': 0})\n",
        "x = msg.message\n",
        "y = msg.labelnum"
      ],
      "metadata": {
        "id": "h_9BBF_IGBd3"
      },
      "execution_count": null,
      "outputs": []
    },
    {
      "cell_type": "code",
      "source": [
        "xtrain, xtest, ytrain, ytest = train_test_split(x, y, test_size=0.2, random_state=42)\n",
        "# xtrain, xtest, ytrain, ytest = train_test_split(x, y, test_size=0.2, random_state=42)\n",
        "\n",
        "print('\\n the total number of Training data :', ytrain.shape)\n",
        "print('\\n the total number of test data :', ytest.shape)"
      ],
      "metadata": {
        "colab": {
          "base_uri": "https://localhost:8080/"
        },
        "id": "JhtYl0UcGgaU",
        "outputId": "f5aa94e5-daf3-4636-f3b4-23d47a8b9776"
      },
      "execution_count": null,
      "outputs": [
        {
          "output_type": "stream",
          "name": "stdout",
          "text": [
            "\n",
            " the total number of Training data : (14,)\n",
            "\n",
            " the total number of test data : (4,)\n"
          ]
        }
      ]
    },
    {
      "cell_type": "code",
      "source": [
        "cv = CountVectorizer()\n",
        "xtrain_dtm = cv.fit_transform(xtrain)\n",
        "xtest_dtm = cv.transform(xtest)\n",
        "print('\\n The words or Tokens in the text documents \\n')\n",
        "print(cv.get_feature_names_out())\n",
        "df =  pd.DataFrame(xtrain_dtm.toarray(), columns = cv.get_feature_names_out())\n",
        "\n"
      ],
      "metadata": {
        "colab": {
          "base_uri": "https://localhost:8080/"
        },
        "id": "qFzUq-S0HBsO",
        "outputId": "47e7d757-b431-44d7-8716-0c1a3f98eefc"
      },
      "execution_count": null,
      "outputs": [
        {
          "output_type": "stream",
          "name": "stdout",
          "text": [
            "\n",
            " The words or Tokens in the text documents \n",
            "\n",
            "['about' 'aesome' 'am' 'an' 'and' 'awesome' 'bad' 'beers' 'best' 'boss'\n",
            " 'can' 'dance' 'deal' 'do' 'enemy' 'feel' 'fun' 'good' 'great' 'have'\n",
            " 'holiday' 'horrible' 'house' 'if' 'is' 'juice' 'like' 'loacality' 'love'\n",
            " 'my' 'not' 'of' 'place' 'sick' 'stay' 'stuff' 'taste' 'that' 'the'\n",
            " 'these' 'this' 'tired' 'to' 'today' 'tomorrow' 'very' 'view' 'we' 'went'\n",
            " 'what' 'will' 'with' 'work']\n"
          ]
        }
      ]
    },
    {
      "cell_type": "code",
      "source": [
        "\n",
        "clf = MultinomialNB()\n",
        "clf.fit(xtrain_dtm, ytrain)\n",
        "predicted = clf.predict(xtest_dtm)"
      ],
      "metadata": {
        "id": "tKoXxEcFIJFV"
      },
      "execution_count": null,
      "outputs": []
    },
    {
      "cell_type": "code",
      "source": [
        "print('\\n Accuracy of the classifier is', metrics.accuracy_score(ytest, predicted))\n",
        "print('\\n Confusion matrix')\n",
        "print(metrics.confusion_matrix(ytest, predicted))\n",
        "print('\\n The value of Precision', metrics.precision_score(ytest, predicted))\n",
        "print('\\n The value of Recall', metrics.recall_score(ytest, predicted))"
      ],
      "metadata": {
        "colab": {
          "base_uri": "https://localhost:8080/"
        },
        "id": "t4a058Bto4UB",
        "outputId": "356c5528-ee5d-4e43-8b0c-7d8e624a2361"
      },
      "execution_count": null,
      "outputs": [
        {
          "output_type": "stream",
          "name": "stdout",
          "text": [
            "\n",
            " Accuracy of the classifier is 1.0\n",
            "\n",
            " Confusion matrix\n",
            "[[2 0]\n",
            " [0 2]]\n",
            "\n",
            " The value of Precision 1.0\n",
            "\n",
            " The value of Recall 1.0\n"
          ]
        }
      ]
    }
  ]
}